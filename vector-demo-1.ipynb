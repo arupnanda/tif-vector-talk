{
 "cells": [
  {
   "cell_type": "code",
   "execution_count": 1,
   "id": "dc241eac",
   "metadata": {},
   "outputs": [],
   "source": [
    "import chromadb"
   ]
  },
  {
   "cell_type": "code",
   "execution_count": 2,
   "id": "866de325",
   "metadata": {},
   "outputs": [],
   "source": [
    "client = chromadb.Client()"
   ]
  },
  {
   "cell_type": "code",
   "execution_count": 3,
   "id": "0b323bdb",
   "metadata": {},
   "outputs": [],
   "source": [
    "coll = client.create_collection(name='my_collection')"
   ]
  },
  {
   "cell_type": "code",
   "execution_count": 4,
   "id": "4af39961",
   "metadata": {},
   "outputs": [
    {
     "data": {
      "text/plain": [
       "'{\"name\": \"my_collection\", \"id\": \"850ea479-06bc-41ce-86b4-1468273d3912\", \"metadata\": null, \"tenant\": \"default_tenant\", \"database\": \"default_database\"}'"
      ]
     },
     "execution_count": 4,
     "metadata": {},
     "output_type": "execute_result"
    }
   ],
   "source": [
    "coll.json()"
   ]
  },
  {
   "cell_type": "code",
   "execution_count": 5,
   "id": "3e037269",
   "metadata": {},
   "outputs": [],
   "source": [
    "# Add embeddings\n",
    "# Age, Networth, No of Children, Zipcode\n",
    "coll.add (\n",
    "    ids = [\"11\",\"12\",\"13\"],\n",
    "    documents = [\"Alice\", \"Bob\", \"Charlie\"],\n",
    "    embeddings = [\n",
    "        [20,100,0,12345],\n",
    "        [40,200,3,23456],\n",
    "        [80,50,2,34567]\n",
    "    ]\n",
    ")"
   ]
  },
  {
   "cell_type": "code",
   "execution_count": 10,
   "id": "cc2969c2",
   "metadata": {},
   "outputs": [],
   "source": [
    "# Query from Lisa's data [age=40, networth=100, no_of_childre=2, zipcode=12345]\n",
    "results = coll.query(\n",
    "    query_embeddings=[40,100,2,12345],\n",
    "    n_results = 3\n",
    ")"
   ]
  },
  {
   "cell_type": "code",
   "execution_count": 11,
   "id": "b40f35a9",
   "metadata": {},
   "outputs": [
    {
     "data": {
      "text/plain": [
       "{'ids': [['11', '12', '13']],\n",
       " 'distances': [[404.0, 123464320.0, 493821376.0]],\n",
       " 'metadatas': [[None, None, None]],\n",
       " 'embeddings': None,\n",
       " 'documents': [['Alice', 'Bob', 'Charlie']],\n",
       " 'uris': None,\n",
       " 'data': None}"
      ]
     },
     "execution_count": 11,
     "metadata": {},
     "output_type": "execute_result"
    }
   ],
   "source": [
    "results"
   ]
  },
  {
   "cell_type": "code",
   "execution_count": 12,
   "id": "695be088",
   "metadata": {},
   "outputs": [],
   "source": [
    "coll.upsert(\n",
    "    ids=['4'],\n",
    "    documents=['Dave'],\n",
    "    embeddings=[[40,100,0,23456]]\n",
    ")"
   ]
  },
  {
   "cell_type": "code",
   "execution_count": 13,
   "id": "da9ea3ca",
   "metadata": {},
   "outputs": [
    {
     "data": {
      "text/plain": [
       "{'ids': ['11', '12', '13', '4'],\n",
       " 'embeddings': [[20.0, 100.0, 0.0, 12345.0],\n",
       "  [40.0, 200.0, 3.0, 23456.0],\n",
       "  [80.0, 50.0, 2.0, 34567.0],\n",
       "  [40.0, 100.0, 0.0, 23456.0]],\n",
       " 'metadatas': [None, None, None, None],\n",
       " 'documents': ['Alice', 'Bob', 'Charlie', 'Dave'],\n",
       " 'uris': None,\n",
       " 'data': None}"
      ]
     },
     "execution_count": 13,
     "metadata": {},
     "output_type": "execute_result"
    }
   ],
   "source": [
    "# Check the vectors in the collection\n",
    "coll.peek()"
   ]
  }
 ],
 "metadata": {
  "kernelspec": {
   "display_name": "Python 3 (ipykernel)",
   "language": "python",
   "name": "python3"
  },
  "language_info": {
   "codemirror_mode": {
    "name": "ipython",
    "version": 3
   },
   "file_extension": ".py",
   "mimetype": "text/x-python",
   "name": "python",
   "nbconvert_exporter": "python",
   "pygments_lexer": "ipython3",
   "version": "3.9.13"
  }
 },
 "nbformat": 4,
 "nbformat_minor": 5
}
