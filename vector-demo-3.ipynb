{
 "cells": [
  {
   "cell_type": "code",
   "execution_count": 1,
   "id": "24b82c84",
   "metadata": {},
   "outputs": [],
   "source": [
    "# for loading data directly from hugging face\n",
    "from datasets import load_dataset"
   ]
  },
  {
   "cell_type": "code",
   "execution_count": 2,
   "id": "3755faa1",
   "metadata": {},
   "outputs": [
    {
     "name": "stderr",
     "output_type": "stream",
     "text": [
      "C:\\ProgramData\\Anaconda\\lib\\site-packages\\scipy\\__init__.py:155: UserWarning: A NumPy version >=1.18.5 and <1.25.0 is required for this version of SciPy (detected version 1.26.4\n",
      "  warnings.warn(f\"A NumPy version >={np_minversion} and <{np_maxversion}\"\n",
      "Found cached dataset parquet (C:/Users/arupnanda/.cache/huggingface/datasets/parquet/wiki_qa-8063f393970b5c49/0.0.0/2a3b91fbd88a2c90d1dbbb32b460cf621d31bd5b05b934492fdef7d8d6f236ec)\n"
     ]
    }
   ],
   "source": [
    "ds = load_dataset('wiki_qa', split='train')"
   ]
  },
  {
   "cell_type": "code",
   "execution_count": 3,
   "id": "dc8e7f56",
   "metadata": {},
   "outputs": [
    {
     "data": {
      "text/plain": [
       "{'question_id': ['Q1', 'Q1', 'Q1', 'Q1', 'Q1'],\n",
       " 'question': ['how are glacier caves formed?',\n",
       "  'how are glacier caves formed?',\n",
       "  'how are glacier caves formed?',\n",
       "  'how are glacier caves formed?',\n",
       "  'how are glacier caves formed?'],\n",
       " 'document_title': ['Glacier cave',\n",
       "  'Glacier cave',\n",
       "  'Glacier cave',\n",
       "  'Glacier cave',\n",
       "  'Glacier cave'],\n",
       " 'answer': ['A partly submerged glacier cave on Perito Moreno Glacier .',\n",
       "  'The ice facade is approximately 60 m high',\n",
       "  'Ice formations in the Titlis glacier cave',\n",
       "  'A glacier cave is a cave formed within the ice of a glacier .',\n",
       "  'Glacier caves are often called ice caves , but this term is properly used to describe bedrock caves that contain year-round ice.'],\n",
       " 'label': [0, 0, 0, 1, 0]}"
      ]
     },
     "execution_count": 3,
     "metadata": {},
     "output_type": "execute_result"
    }
   ],
   "source": [
    "#check a few rows\n",
    "ds[:5]"
   ]
  },
  {
   "cell_type": "code",
   "execution_count": 4,
   "id": "e410a3cb",
   "metadata": {},
   "outputs": [],
   "source": [
    "# collect only the questions\n",
    "questions = []\n",
    "for i in ds ['question']:\n",
    "    questions.append(i)"
   ]
  },
  {
   "cell_type": "code",
   "execution_count": 5,
   "id": "8fb7fd73",
   "metadata": {},
   "outputs": [],
   "source": [
    "# remove duplicates\n",
    "questions = list(set(questions))"
   ]
  },
  {
   "cell_type": "code",
   "execution_count": 6,
   "id": "14f8054d",
   "metadata": {},
   "outputs": [
    {
     "name": "stdout",
     "output_type": "stream",
     "text": [
      "what is the ideal mean radiant temperature\n",
      "Who holds records for most weeks spent at number one as female artist\n",
      "what is the internal pressure of a bomb calorimeter\n",
      "when was bow wow born\n",
      "Who Discovered Nuclear Power\n"
     ]
    }
   ],
   "source": [
    "#check a few rows\n",
    "print('\\n'.join(questions[:5]))"
   ]
  },
  {
   "cell_type": "code",
   "execution_count": 7,
   "id": "ecd2a3c2",
   "metadata": {},
   "outputs": [
    {
     "name": "stdout",
     "output_type": "stream",
     "text": [
      "2118\n"
     ]
    }
   ],
   "source": [
    "# how many questions did we get?\n",
    "print(len(questions))"
   ]
  },
  {
   "cell_type": "code",
   "execution_count": 8,
   "id": "9a3b7601",
   "metadata": {},
   "outputs": [],
   "source": [
    "import chromadb"
   ]
  },
  {
   "cell_type": "code",
   "execution_count": 9,
   "id": "3afe6a46",
   "metadata": {},
   "outputs": [],
   "source": [
    "client = chromadb.Client()"
   ]
  },
  {
   "cell_type": "code",
   "execution_count": 10,
   "id": "f8c51f84",
   "metadata": {},
   "outputs": [],
   "source": [
    "coll = client.create_collection(name='my_collection')"
   ]
  },
  {
   "cell_type": "code",
   "execution_count": 11,
   "id": "46cc208d",
   "metadata": {},
   "outputs": [
    {
     "data": {
      "text/plain": [
       "'Prepare the embedding\\n\\nWe will need three things:\\n1. An ID\\n2. A document, which is the question we collected\\n3. A vector representation of the document\\n\\nTo create the the vector, we will use the sentence transformer model we leanred earlier.\\n\\nfrom these we will create an embedding\\nembedding = [(id, document, vector)]\\n\\nWe will add these to the collection using the upsert method. To show progress, we will use the tqdm package.\\n'"
      ]
     },
     "execution_count": 11,
     "metadata": {},
     "output_type": "execute_result"
    }
   ],
   "source": [
    "\"\"\"Prepare the embedding\n",
    "\n",
    "We will need three things:\n",
    "1. An ID\n",
    "2. A document, which is the question we collected\n",
    "3. A vector representation of the document\n",
    "\n",
    "To create the the vector, we will use the sentence transformer model we leanred earlier.\n",
    "\n",
    "from these we will create an embedding\n",
    "embedding = [(id, document, vector)]\n",
    "\n",
    "We will add these to the collection using the upsert method. To show progress, we will use the tqdm package.\n",
    "\"\"\""
   ]
  },
  {
   "cell_type": "code",
   "execution_count": 12,
   "id": "f4b15221",
   "metadata": {},
   "outputs": [],
   "source": [
    "from tqdm.auto import tqdm"
   ]
  },
  {
   "cell_type": "code",
   "execution_count": 13,
   "id": "2cdc49c5",
   "metadata": {},
   "outputs": [],
   "source": [
    "from sentence_transformers import SentenceTransformer"
   ]
  },
  {
   "cell_type": "code",
   "execution_count": 14,
   "id": "351a7dec",
   "metadata": {},
   "outputs": [],
   "source": [
    "model = SentenceTransformer('sentence-transformers/all-MiniLM-L12-v2')\n",
    "#model = SentenceTransformer('sentence-transformers/all-mpnet-base-v2')"
   ]
  },
  {
   "cell_type": "code",
   "execution_count": 15,
   "id": "8434940c",
   "metadata": {},
   "outputs": [
    {
     "data": {
      "application/vnd.jupyter.widget-view+json": {
       "model_id": "4f3bb9cd83ec4d70858422cbc2889978",
       "version_major": 2,
       "version_minor": 0
      },
      "text/plain": [
       "  0%|          | 0/17 [00:00<?, ?it/s]"
      ]
     },
     "metadata": {},
     "output_type": "display_data"
    }
   ],
   "source": [
    "# Upsert\n",
    "# batches of 128\n",
    "# total questions are 2118\n",
    "batch_size=128\n",
    "total_size=2118\n",
    "for ctr in tqdm(range(0,total_size,batch_size)):\n",
    "    ctr_end = min(ctr+batch_size, total_size)\n",
    "    IDs = [str(i) for i in range(ctr, ctr_end)]\n",
    "    documents = [text for text in questions[ctr:ctr_end]]\n",
    "    embeddings = model.encode(questions[ctr:ctr_end]).tolist()\n",
    "    coll.upsert(documents=documents, ids=IDs, embeddings=embeddings)\n"
   ]
  },
  {
   "cell_type": "code",
   "execution_count": 16,
   "id": "9ddea31f",
   "metadata": {},
   "outputs": [
    {
     "data": {
      "text/plain": [
       "2118"
      ]
     },
     "execution_count": 16,
     "metadata": {},
     "output_type": "execute_result"
    }
   ],
   "source": [
    "coll.count()"
   ]
  },
  {
   "cell_type": "code",
   "execution_count": 17,
   "id": "a5d65242",
   "metadata": {},
   "outputs": [],
   "source": [
    "# Let's for our question, which may not exist in its current form in the list of questions.\n",
    "# Instead, we are trying to find out from the list which questions are semantically similar to\n",
    "# this question we have in mind.\n",
    "question = 'why did Americans fight their own'"
   ]
  },
  {
   "cell_type": "code",
   "execution_count": 18,
   "id": "b7f27c9c",
   "metadata": {},
   "outputs": [],
   "source": [
    "# convert to a vector\n",
    "ques_vector = model.encode(question).tolist()\n",
    "# ques_vector"
   ]
  },
  {
   "cell_type": "code",
   "execution_count": 19,
   "id": "f1354d35",
   "metadata": {},
   "outputs": [],
   "source": [
    "# Get similar vectors\n",
    "similar_vectors = coll.query(ques_vector, n_results = 10)"
   ]
  },
  {
   "cell_type": "code",
   "execution_count": 20,
   "id": "d370bfb7",
   "metadata": {},
   "outputs": [
    {
     "data": {
      "text/plain": [
       "{'ids': [['1323',\n",
       "   '1721',\n",
       "   '1119',\n",
       "   '1435',\n",
       "   '1397',\n",
       "   '1377',\n",
       "   '1300',\n",
       "   '1221',\n",
       "   '1954',\n",
       "   '6']],\n",
       " 'distances': [[1.0276615619659424,\n",
       "   1.0597517490386963,\n",
       "   1.1023807525634766,\n",
       "   1.1028097867965698,\n",
       "   1.1260040998458862,\n",
       "   1.1382591724395752,\n",
       "   1.1674909591674805,\n",
       "   1.183807373046875,\n",
       "   1.2293291091918945,\n",
       "   1.2379268407821655]],\n",
       " 'metadatas': [[None, None, None, None, None, None, None, None, None, None]],\n",
       " 'embeddings': None,\n",
       " 'documents': [['what made the civil war different from others',\n",
       "   'when was america pioneered',\n",
       "   'what date did the american civil war start',\n",
       "   'how many native Americans did the United States kill or deport?',\n",
       "   'what triggered the civil war',\n",
       "   'when did the civil war start and where',\n",
       "   'Who controlled Alaska before US?',\n",
       "   'what two empires fought to control afghanistan',\n",
       "   'what is colonial americans day in usa',\n",
       "   'how did bleeding sumner lead to the civil war']],\n",
       " 'uris': None,\n",
       " 'data': None}"
      ]
     },
     "execution_count": 20,
     "metadata": {},
     "output_type": "execute_result"
    }
   ],
   "source": [
    "# How does it look?\n",
    "similar_vectors"
   ]
  },
  {
   "cell_type": "code",
   "execution_count": 21,
   "id": "c093eef6",
   "metadata": {},
   "outputs": [
    {
     "name": "stdout",
     "output_type": "stream",
     "text": [
      "Distance   ID Question\n",
      "1.027662 1323 what made the civil war different from others\n",
      "1.059752 1721 when was america pioneered\n",
      "1.102381 1119 what date did the american civil war start\n",
      "1.102810 1435 how many native Americans did the United States kill or deport?\n",
      "1.126004 1397 what triggered the civil war\n",
      "1.138259 1377 when did the civil war start and where\n",
      "1.167491 1300 Who controlled Alaska before US?\n",
      "1.183807 1221 what two empires fought to control afghanistan\n",
      "1.229329 1954 what is colonial americans day in usa\n",
      "1.237927    6 how did bleeding sumner lead to the civil war\n"
     ]
    }
   ],
   "source": [
    "#pretty output\n",
    "print(f'{\"Distance\":>8} {\"ID\":>4} {\"Question\"}')\n",
    "for ids in similar_vectors['ids'][0]:\n",
    "    i = similar_vectors['ids'][0].index(ids)\n",
    "    print(f\"{round(similar_vectors['distances'][0][i],6):1.6f} {ids:>4} {similar_vectors['documents'][0][i]}\")"
   ]
  },
  {
   "cell_type": "code",
   "execution_count": null,
   "id": "00f80907",
   "metadata": {},
   "outputs": [],
   "source": [
    "model"
   ]
  }
 ],
 "metadata": {
  "kernelspec": {
   "display_name": "Python 3 (ipykernel)",
   "language": "python",
   "name": "python3"
  },
  "language_info": {
   "codemirror_mode": {
    "name": "ipython",
    "version": 3
   },
   "file_extension": ".py",
   "mimetype": "text/x-python",
   "name": "python",
   "nbconvert_exporter": "python",
   "pygments_lexer": "ipython3",
   "version": "3.9.13"
  }
 },
 "nbformat": 4,
 "nbformat_minor": 5
}
