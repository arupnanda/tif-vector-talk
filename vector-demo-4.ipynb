{
 "cells": [
  {
   "cell_type": "code",
   "execution_count": 1,
   "id": "8e14c07c",
   "metadata": {},
   "outputs": [],
   "source": [
    "# Install if needed\n",
    "# !pip install --upgrade chromadb"
   ]
  },
  {
   "cell_type": "code",
   "execution_count": 2,
   "id": "dc241eac",
   "metadata": {},
   "outputs": [],
   "source": [
    "import chromadb"
   ]
  },
  {
   "cell_type": "code",
   "execution_count": 3,
   "id": "866de325",
   "metadata": {},
   "outputs": [],
   "source": [
    "client = chromadb.Client()"
   ]
  },
  {
   "cell_type": "code",
   "execution_count": 4,
   "id": "0b323bdb",
   "metadata": {},
   "outputs": [],
   "source": [
    "coll = client.create_collection(name='my_collection')"
   ]
  },
  {
   "cell_type": "code",
   "execution_count": 5,
   "id": "3e037269",
   "metadata": {},
   "outputs": [],
   "source": [
    "# Add embeddings\n",
    "# Age, Networth, No of Children, Zipcode\n",
    "coll.add (\n",
    "    ids = [\"11\",\"12\",\"13\"],\n",
    "    documents = [\"Alice\", \"Bob\", \"Charlie\"],\n",
    "    metadatas = [{\"gender\":\"woman\"},{\"gender\":\"man\"},{\"gender\":\"man\"}],\n",
    "    embeddings = [\n",
    "        [20,100,0,12345],\n",
    "        [40,200,3,23456],\n",
    "        [80,50,2,34567]\n",
    "    ]\n",
    ")"
   ]
  },
  {
   "cell_type": "code",
   "execution_count": 6,
   "id": "6c869764",
   "metadata": {},
   "outputs": [
    {
     "data": {
      "text/plain": [
       "{'ids': ['11', '12'],\n",
       " 'embeddings': None,\n",
       " 'metadatas': [{'gender': 'woman'}, {'gender': 'man'}],\n",
       " 'documents': ['Alice', 'Bob'],\n",
       " 'uris': None,\n",
       " 'data': None}"
      ]
     },
     "execution_count": 6,
     "metadata": {},
     "output_type": "execute_result"
    }
   ],
   "source": [
    "# Get specific ID from the collection\n",
    "results = coll.get (\n",
    "    ids = [\"11\",\"12\"]\n",
    ")\n",
    "results"
   ]
  },
  {
   "cell_type": "code",
   "execution_count": 7,
   "id": "c8360712",
   "metadata": {},
   "outputs": [
    {
     "name": "stderr",
     "output_type": "stream",
     "text": [
      "Number of requested results 10 is greater than number of elements in index 3, updating n_results = 3\n"
     ]
    },
    {
     "data": {
      "text/plain": [
       "{'ids': [['11', '12', '13']],\n",
       " 'distances': [[404.0, 123464320.0, 493821376.0]],\n",
       " 'metadatas': [[{'gender': 'woman'}, {'gender': 'man'}, {'gender': 'man'}]],\n",
       " 'embeddings': None,\n",
       " 'documents': [['Alice', 'Bob', 'Charlie']],\n",
       " 'uris': None,\n",
       " 'data': None}"
      ]
     },
     "execution_count": 7,
     "metadata": {},
     "output_type": "execute_result"
    }
   ],
   "source": [
    "# Query without any meatadata filter\n",
    "results = coll.query(\n",
    "    query_embeddings=[40,100,2,12345]\n",
    ")\n",
    "results"
   ]
  },
  {
   "cell_type": "code",
   "execution_count": 8,
   "id": "8606bee0",
   "metadata": {},
   "outputs": [],
   "source": [
    "query = [40,100,2,12345]\n"
   ]
  },
  {
   "cell_type": "code",
   "execution_count": 9,
   "id": "cc2969c2",
   "metadata": {},
   "outputs": [
    {
     "name": "stderr",
     "output_type": "stream",
     "text": [
      "Number of requested results 10 is greater than number of elements in index 3, updating n_results = 3\n"
     ]
    },
    {
     "data": {
      "text/plain": [
       "{'ids': [['12', '13']],\n",
       " 'distances': [[123464320.0, 493821376.0]],\n",
       " 'metadatas': [[{'gender': 'man'}, {'gender': 'man'}]],\n",
       " 'embeddings': None,\n",
       " 'documents': [['Bob', 'Charlie']],\n",
       " 'uris': None,\n",
       " 'data': None}"
      ]
     },
     "execution_count": 9,
     "metadata": {},
     "output_type": "execute_result"
    }
   ],
   "source": [
    "# Search with a definitve query on metadata\n",
    "results = coll.query(\n",
    "    query_embeddings=[40,100,2,12345],\n",
    "#    where={\"gender\":{\"$in\":[\"man\",\"woman\"]}}\n",
    "    where={\"gender\":{\"$eq\":\"man\"}}\n",
    ")\n",
    "results"
   ]
  },
  {
   "cell_type": "code",
   "execution_count": 10,
   "id": "3a9deb35",
   "metadata": {},
   "outputs": [
    {
     "name": "stderr",
     "output_type": "stream",
     "text": [
      "Number of requested results 10 is greater than number of elements in index 3, updating n_results = 3\n"
     ]
    },
    {
     "data": {
      "text/plain": [
       "{'ids': [['13']],\n",
       " 'distances': [[493821376.0]],\n",
       " 'metadatas': [[{'gender': 'man'}]],\n",
       " 'embeddings': None,\n",
       " 'documents': [['Charlie']],\n",
       " 'uris': None,\n",
       " 'data': None}"
      ]
     },
     "execution_count": 10,
     "metadata": {},
     "output_type": "execute_result"
    }
   ],
   "source": [
    "# Search documents for patterns (definitive; not predictive)\n",
    "results = coll.query(\n",
    "    query_embeddings=[40,100,2,12345],\n",
    "    where_document={\"$contains\":\"C\"}\n",
    ")\n",
    "results"
   ]
  },
  {
   "cell_type": "code",
   "execution_count": 11,
   "id": "7eb93049",
   "metadata": {},
   "outputs": [
    {
     "name": "stderr",
     "output_type": "stream",
     "text": [
      "Number of requested results 10 is greater than number of elements in index 3, updating n_results = 3\n"
     ]
    },
    {
     "data": {
      "text/plain": [
       "{'ids': [['11', '12', '13']],\n",
       " 'distances': [[404.0, 123464320.0, 493821376.0]],\n",
       " 'metadatas': None,\n",
       " 'embeddings': None,\n",
       " 'documents': [['Alice', 'Bob', 'Charlie']],\n",
       " 'uris': None,\n",
       " 'data': None}"
      ]
     },
     "execution_count": 11,
     "metadata": {},
     "output_type": "execute_result"
    }
   ],
   "source": [
    "#include only a specified number of fields\n",
    "results = coll.query(\n",
    "    query_embeddings=[40,100,2,12345],\n",
    "    include=[\"documents\",\"distances\"]\n",
    ")\n",
    "results"
   ]
  },
  {
   "cell_type": "code",
   "execution_count": 12,
   "id": "695be088",
   "metadata": {},
   "outputs": [],
   "source": [
    "coll.upsert(\n",
    "    ids=['4'],\n",
    "    documents=['Denise'],\n",
    "    metadatas=[{\"gender\":\"woman\"}],\n",
    "    embeddings=[[40,100,0,23456]]\n",
    ")"
   ]
  },
  {
   "cell_type": "code",
   "execution_count": 13,
   "id": "da9ea3ca",
   "metadata": {},
   "outputs": [
    {
     "data": {
      "text/plain": [
       "{'ids': ['11', '12', '13', '4'],\n",
       " 'embeddings': [[20.0, 100.0, 0.0, 12345.0],\n",
       "  [40.0, 200.0, 3.0, 23456.0],\n",
       "  [80.0, 50.0, 2.0, 34567.0],\n",
       "  [40.0, 100.0, 0.0, 23456.0]],\n",
       " 'metadatas': [{'gender': 'woman'},\n",
       "  {'gender': 'man'},\n",
       "  {'gender': 'man'},\n",
       "  {'gender': 'woman'}],\n",
       " 'documents': ['Alice', 'Bob', 'Charlie', 'Denise'],\n",
       " 'uris': None,\n",
       " 'data': None}"
      ]
     },
     "execution_count": 13,
     "metadata": {},
     "output_type": "execute_result"
    }
   ],
   "source": [
    "coll.peek()"
   ]
  },
  {
   "cell_type": "code",
   "execution_count": 14,
   "id": "9a5de555",
   "metadata": {},
   "outputs": [],
   "source": [
    "# Add another meatadata element -- level\n",
    "coll.update (\n",
    "    ids = [\"11\",\"12\",\"13\"],\n",
    "    documents = [\"Alice\", \"Bob\", \"Charlie\"],\n",
    "    metadatas = [{\"gender\":\"woman\",\"level\":3},{\"gender\":\"man\",\"level\":2},{\"gender\":\"man\",\"level\":1}],\n",
    "    embeddings = [\n",
    "        [20,100,0,12345],\n",
    "        [40,200,3,23456],\n",
    "        [80,50,2,34567]\n",
    "    ]\n",
    ")"
   ]
  },
  {
   "cell_type": "code",
   "execution_count": 15,
   "id": "9540e178",
   "metadata": {},
   "outputs": [
    {
     "name": "stderr",
     "output_type": "stream",
     "text": [
      "Number of requested results 10 is greater than number of elements in index 4, updating n_results = 4\n"
     ]
    },
    {
     "data": {
      "text/plain": [
       "{'ids': [['11', '12']],\n",
       " 'distances': [[404.0, 123464320.0]],\n",
       " 'metadatas': [[{'gender': 'woman', 'level': 3},\n",
       "   {'gender': 'man', 'level': 2}]],\n",
       " 'embeddings': None,\n",
       " 'documents': [['Alice', 'Bob']],\n",
       " 'uris': None,\n",
       " 'data': None}"
      ]
     },
     "execution_count": 15,
     "metadata": {},
     "output_type": "execute_result"
    }
   ],
   "source": [
    "# Search for embeddings with level >= 2\n",
    "results = coll.query(\n",
    "    query_embeddings=[40,100,2,12345],\n",
    "    where={\"level\":{\"$gte\":2}}\n",
    ")\n",
    "results"
   ]
  },
  {
   "cell_type": "code",
   "execution_count": 16,
   "id": "10267b23",
   "metadata": {},
   "outputs": [
    {
     "name": "stderr",
     "output_type": "stream",
     "text": [
      "Number of requested results 10 is greater than number of elements in index 4, updating n_results = 4\n"
     ]
    },
    {
     "data": {
      "text/plain": [
       "{'ids': [['12']],\n",
       " 'distances': [[123464320.0]],\n",
       " 'metadatas': [[{'gender': 'man', 'level': 2}]],\n",
       " 'embeddings': None,\n",
       " 'documents': [['Bob']],\n",
       " 'uris': None,\n",
       " 'data': None}"
      ]
     },
     "execution_count": 16,
     "metadata": {},
     "output_type": "execute_result"
    }
   ],
   "source": [
    "# Search for embeddings with level >= 2 and gender = \"man\"\n",
    "results = coll.query(\n",
    "    query_embeddings=[40,100,2,12345],\n",
    "    where={\n",
    "        \"$and\":[\n",
    "            {\"level\":{\"$gte\":2}},\n",
    "            {\"gender\":{\"$eq\":\"man\"}}\n",
    "        ]\n",
    "    }\n",
    ")\n",
    "results"
   ]
  },
  {
   "cell_type": "code",
   "execution_count": 17,
   "id": "98bc8d87",
   "metadata": {},
   "outputs": [
    {
     "data": {
      "text/plain": [
       "{'ids': ['13'],\n",
       " 'embeddings': None,\n",
       " 'metadatas': [{'gender': 'man', 'level': 1}],\n",
       " 'documents': ['Charlie'],\n",
       " 'uris': None,\n",
       " 'data': None}"
      ]
     },
     "execution_count": 17,
     "metadata": {},
     "output_type": "execute_result"
    }
   ],
   "source": [
    "coll.get(\n",
    "    limit=1,\n",
    "    offset=2\n",
    ")"
   ]
  },
  {
   "cell_type": "code",
   "execution_count": 18,
   "id": "1bb639d3",
   "metadata": {},
   "outputs": [
    {
     "data": {
      "text/plain": [
       "{'ids': ['11', '12', '13', '4'],\n",
       " 'embeddings': [[20.0, 100.0, 0.0, 12345.0],\n",
       "  [40.0, 200.0, 3.0, 23456.0],\n",
       "  [80.0, 50.0, 2.0, 34567.0],\n",
       "  [40.0, 100.0, 0.0, 23456.0]],\n",
       " 'metadatas': [{'gender': 'woman', 'level': 3},\n",
       "  {'gender': 'man', 'level': 2},\n",
       "  {'gender': 'man', 'level': 1},\n",
       "  {'gender': 'woman'}],\n",
       " 'documents': ['Alice', 'Bob', 'Charlie', 'Denise'],\n",
       " 'uris': None,\n",
       " 'data': None}"
      ]
     },
     "execution_count": 18,
     "metadata": {},
     "output_type": "execute_result"
    }
   ],
   "source": [
    "coll.peek()"
   ]
  },
  {
   "cell_type": "code",
   "execution_count": null,
   "id": "e29a201c",
   "metadata": {},
   "outputs": [],
   "source": []
  },
  {
   "cell_type": "code",
   "execution_count": null,
   "id": "c40cf2a2",
   "metadata": {},
   "outputs": [],
   "source": []
  }
 ],
 "metadata": {
  "kernelspec": {
   "display_name": "Python 3 (ipykernel)",
   "language": "python",
   "name": "python3"
  },
  "language_info": {
   "codemirror_mode": {
    "name": "ipython",
    "version": 3
   },
   "file_extension": ".py",
   "mimetype": "text/x-python",
   "name": "python",
   "nbconvert_exporter": "python",
   "pygments_lexer": "ipython3",
   "version": "3.9.13"
  }
 },
 "nbformat": 4,
 "nbformat_minor": 5
}
